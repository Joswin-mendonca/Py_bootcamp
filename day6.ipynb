{
 "cells": [
  {
   "cell_type": "code",
   "execution_count": 1,
   "id": "dd83f7fd",
   "metadata": {},
   "outputs": [
    {
     "data": {
      "text/plain": [
       "True"
      ]
     },
     "execution_count": 1,
     "metadata": {},
     "output_type": "execute_result"
    }
   ],
   "source": [
    "import re\n",
    "bool(re.match(r'^\\d{6}$', '560001'))"
   ]
  },
  {
   "cell_type": "code",
   "execution_count": 2,
   "id": "a192c567",
   "metadata": {},
   "outputs": [
    {
     "data": {
      "text/plain": [
       "['560001', '231245', '560002']"
      ]
     },
     "execution_count": 2,
     "metadata": {},
     "output_type": "execute_result"
    }
   ],
   "source": [
    "re.findall(r'\\b\\d{6}\\b', 'My pin codes are 560001 52112 231245 560002')"
   ]
  },
  {
   "cell_type": "code",
   "execution_count": 3,
   "id": "15c9f2a2",
   "metadata": {},
   "outputs": [
    {
     "name": "stdout",
     "output_type": "stream",
     "text": [
      "Emails: ['john@example.com', 'support@.domain..org']\n"
     ]
    }
   ],
   "source": [
    "text2 = \"Contact: john@example.com, support@.domain..org\"\n",
    "emails = re.findall(r\"\\b[\\w.-]+@[\\w.-]+\\.+[\\w]+\\b\", text2)\n",
    "# \\b → word boundary; [\\w.-]+ → username; @ → at symbol;\n",
    "# [\\w.-]+ → domain name; \\.\\w+ → domain extension\n",
    "print(\"Emails:\", emails)"
   ]
  },
  {
   "cell_type": "code",
   "execution_count": 4,
   "id": "dc862741",
   "metadata": {},
   "outputs": [
    {
     "data": {
      "text/plain": [
       "['1123']"
      ]
     },
     "execution_count": 4,
     "metadata": {},
     "output_type": "execute_result"
    }
   ],
   "source": [
    "re.findall(r\"\\w+\",  \".1123\")"
   ]
  },
  {
   "cell_type": "code",
   "execution_count": 5,
   "id": "f756ccf4",
   "metadata": {},
   "outputs": [],
   "source": [
    "def brute_force(arr, target):\n",
    "    for i in range(len(arr)):\n",
    "        for j in range(i+1, len(arr)):\n",
    "            if arr[i]+arr[j] == target:\n",
    "                return i,j\n",
    "    return -1, -1"
   ]
  }
 ],
 "metadata": {
  "kernelspec": {
   "display_name": "Python 3",
   "language": "python",
   "name": "python3"
  },
  "language_info": {
   "codemirror_mode": {
    "name": "ipython",
    "version": 3
   },
   "file_extension": ".py",
   "mimetype": "text/x-python",
   "name": "python",
   "nbconvert_exporter": "python",
   "pygments_lexer": "ipython3",
   "version": "3.12.7"
  }
 },
 "nbformat": 4,
 "nbformat_minor": 5
}
