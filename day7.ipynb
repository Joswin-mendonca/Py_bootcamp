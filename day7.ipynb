{
 "cells": [
  {
   "cell_type": "code",
   "execution_count": 8,
   "id": "91946d3f",
   "metadata": {},
   "outputs": [
    {
     "name": "stdout",
     "output_type": "stream",
     "text": [
      "Fibonacci (DP): (55, [0, 1, 1, 2, 3, 5, 8, 13, 21, 34, 55])\n"
     ]
    }
   ],
   "source": [
    "#Fibonacci(Dynamic)\n",
    "def fib_dp(n):\n",
    "    if n == 0 or n == 1:\n",
    "        return n\n",
    "    dp = [0] * (n + 1)\n",
    "    dp[1] = 1\n",
    "    for i in range(2, n + 1):\n",
    "        dp[i] = dp[i - 1] + dp[i - 2]\n",
    "    return dp[n], dp,\n",
    "n = 10\n",
    "print(\"Fibonacci (DP):\", fib_dp(n))"
   ]
  },
  {
   "cell_type": "code",
   "execution_count": 10,
   "id": "aafbb5ec",
   "metadata": {},
   "outputs": [
    {
     "data": {
      "text/plain": [
       "3"
      ]
     },
     "execution_count": 10,
     "metadata": {},
     "output_type": "execute_result"
    }
   ],
   "source": [
    "#Binary Search – Sorted Array\n",
    "def binary_search(arr, target):\n",
    "    low = 0\n",
    "    high = len(arr) - 1\n",
    "    while low <= high:\n",
    "        mid = (low + high) // 2\n",
    "        if arr[mid] == target:\n",
    "            return mid  # found target\n",
    "        elif arr[mid] < target:\n",
    "            low = mid + 1  # search right\n",
    "        else:\n",
    "            high = mid - 1  # search left\n",
    "    return -1  # not found\n",
    "binary_search([2, 4, 7, 10, 14], 10)"
   ]
  },
  {
   "cell_type": "code",
   "execution_count": 11,
   "id": "d6103139",
   "metadata": {},
   "outputs": [
    {
     "data": {
      "text/plain": [
       "5"
      ]
     },
     "execution_count": 11,
     "metadata": {},
     "output_type": "execute_result"
    }
   ],
   "source": [
    "# Binary Search – Rotated Sorted Array\n",
    "def search_rotated(arr, target):\n",
    "    low = 0\n",
    "    high = len(arr) - 1\n",
    "    while low <= high:        # Continue while range is valid\n",
    "        mid = (low + high) // 2\n",
    "        if arr[mid] == target: # found\n",
    "            return mid\n",
    "        # Left half is sorted\n",
    "        if arr[low] <= arr[mid]:\n",
    "            # target in left half - sorted\n",
    "            if arr[low] <= target < arr[mid]: \n",
    "                high = mid - 1\n",
    "            # target in right half - not sorted\n",
    "            else:\n",
    "                low = mid + 1\n",
    "        # Right half is sorted\n",
    "        else:\n",
    "            if arr[mid] < target <= arr[high]:\n",
    "                low = mid + 1\n",
    "            else:\n",
    "                high = mid - 1\n",
    "    return -1\n",
    "search_rotated([6,7,8,1,2,3,4], 3)"
   ]
  },
  {
   "cell_type": "code",
   "execution_count": 12,
   "id": "10966ca3",
   "metadata": {},
   "outputs": [
    {
     "data": {
      "text/plain": [
       "True"
      ]
     },
     "execution_count": 12,
     "metadata": {},
     "output_type": "execute_result"
    }
   ],
   "source": [
    "#Matching Braces – Stack Use\n",
    "def is_valid(s):\n",
    "    stack = []\n",
    "    pair = {')': '(', ']': '[', '}': '{'}\n",
    "    for ch in s:\n",
    "        if ch in '([{':\n",
    "            stack.append(ch)  # opening brace\n",
    "        elif ch in ')]}':\n",
    "            if not stack or stack[-1] != pair[ch]:\n",
    "                return False  # mismatch\n",
    "            stack.pop()\n",
    "    return len(stack) == 0  # stack should be empty\n",
    "is_valid(\"{[()()]}\")"
   ]
  }
 ],
 "metadata": {
  "kernelspec": {
   "display_name": "Python 3",
   "language": "python",
   "name": "python3"
  },
  "language_info": {
   "codemirror_mode": {
    "name": "ipython",
    "version": 3
   },
   "file_extension": ".py",
   "mimetype": "text/x-python",
   "name": "python",
   "nbconvert_exporter": "python",
   "pygments_lexer": "ipython3",
   "version": "3.12.7"
  }
 },
 "nbformat": 4,
 "nbformat_minor": 5
}
