{
 "cells": [
  {
   "cell_type": "code",
   "execution_count": 1,
   "id": "b8e68215",
   "metadata": {},
   "outputs": [
    {
     "data": {
      "text/plain": [
       "[3, 2]"
      ]
     },
     "execution_count": 1,
     "metadata": {},
     "output_type": "execute_result"
    }
   ],
   "source": [
    "a=[1,3,2,3]\n",
    "a[1:3]"
   ]
  },
  {
   "cell_type": "code",
   "execution_count": 24,
   "id": "32b526c3",
   "metadata": {},
   "outputs": [
    {
     "data": {
      "text/plain": [
       "([['j', 'o', 's'], ['o', 's', 'j', 'w', 'i', 'n']], [3, 6])"
      ]
     },
     "execution_count": 24,
     "metadata": {},
     "output_type": "execute_result"
    }
   ],
   "source": [
    "string = \"josjwin\"\n",
    "string1 = string\n",
    "s,cur1,cur2=[],[],[]\n",
    "a,i, length= 0,0,0\n",
    "while(i!=len(string)):\n",
    "    if string[i] not in cur2:\n",
    "        cur2.append(string[i])\n",
    "        length += 1\n",
    "        i+=1\n",
    "    else:\n",
    "        s.append(cur2)\n",
    "        cur2=[]\n",
    "        cur1.append(length)\n",
    "        length = 0\n",
    "        i=a+1\n",
    "        a = i\n",
    "if(length!=0):\n",
    "    s.append(cur2)\n",
    "    cur1.append(length)\n",
    "s , cur1"
   ]
  },
  {
   "cell_type": "code",
   "execution_count": 6,
   "id": "36e18745",
   "metadata": {},
   "outputs": [
    {
     "name": "stdout",
     "output_type": "stream",
     "text": [
      "First 5 cards in order:\n",
      "[Card#0 → Suit:0, Rank:0, Card#1 → Suit:0, Rank:1, Card#2 → Suit:0, Rank:2, Card#3 → Suit:0, Rank:3, Card#4 → Suit:0, Rank:4]\n",
      "\n",
      "First 5 cards after shuffle:\n",
      "[Card#45 → Suit:3, Rank:6, Card#19 → Suit:1, Rank:6, Card#6 → Suit:0, Rank:6, Card#14 → Suit:1, Rank:1, Card#21 → Suit:1, Rank:8]\n"
     ]
    }
   ],
   "source": [
    "class Card:\n",
    "    def __init__(self, number):\n",
    "        self.number = number\n",
    "        self.suit = number // 13       # 0 to 3\n",
    "        self.rank = number % 13        # 0 to 12\n",
    "\n",
    "    def __repr__(self):\n",
    "        return f\"Card#{self.number} → Suit:{self.suit}, Rank:{self.rank}\"\n",
    "\n",
    "class Deck:\n",
    "    def __init__(self):\n",
    "        self.cards = [Card(i) for i in range(52)]\n",
    "\n",
    "    def show(self, count=5):\n",
    "        return self.cards[:count]\n",
    "\n",
    "    def shuffle(self):\n",
    "        import random\n",
    "        random.shuffle(self.cards)\n",
    "\n",
    "# 🃏 Usage\n",
    "deck = Deck()\n",
    "print(\"First 5 cards in order:\")\n",
    "print(deck.show())\n",
    "\n",
    "deck.shuffle()\n",
    "print(\"\\nFirst 5 cards after shuffle:\")\n",
    "print(deck.show())"
   ]
  },
  {
   "cell_type": "code",
   "execution_count": 29,
   "id": "2d7e9f5c",
   "metadata": {},
   "outputs": [
    {
     "name": "stdout",
     "output_type": "stream",
     "text": [
      "Linear Search: 2\n",
      "Binary Search: 2\n"
     ]
    }
   ],
   "source": [
    "# Day 5: Problem Solving with Python – Simplified for Early Learners\n",
    "\n",
    "# 1. 🔍 Linear Search and Binary Search\n",
    "\n",
    "def linear_search(arr, target):\n",
    "    # Scan each element till target is found (O(n) time)\n",
    "    for i in range(len(arr)):\n",
    "        if arr[i] == target:\n",
    "            return i\n",
    "    return -1\n",
    "\n",
    "def binary_search(arr, target):\n",
    "    # Efficient search in sorted array (O(log n) time)\n",
    "    left = 0\n",
    "    right = len(arr) - 1\n",
    "    while left <= right:\n",
    "        mid = (left + right) // 2\n",
    "        if arr[mid] == target: # Found the target\n",
    "            return mid\n",
    "        elif arr[mid] < target: # Target is in the right half\n",
    "            left = mid + 1\n",
    "        else: # Target is in the left half\n",
    "            right = mid - 1\n",
    "    return -1\n",
    "\n",
    "# bsearch as recursive function\n",
    "def binary_search_recursive(arr, target, left=0, right=None):\n",
    "    if right is None:\n",
    "        right = len(arr) - 1\n",
    "    if left > right:\n",
    "        return -1 # Base case: target not found\n",
    "    mid = (left + right) // 2\n",
    "    if arr[mid] == target: # Found the target\n",
    "        return mid\n",
    "    elif arr[mid] < target: # Target is in the right half\n",
    "        return binary_search_recursive(arr, target, mid + 1, right)\n",
    "    else:                   # Target is in the left half\n",
    "        return binary_search_recursive(arr, target, left, mid - 1)\n",
    "if True :\n",
    "    arr = [2, 4, 6, 8, 10]\n",
    "    print(\"Linear Search:\", linear_search(arr, 6))\n",
    "    print(\"Binary Search:\", binary_search(arr, 6))"
   ]
  },
  {
   "cell_type": "code",
   "execution_count": 3,
   "id": "3c5a7c49",
   "metadata": {},
   "outputs": [],
   "source": [
    "class Node:\n",
    "    def __init__(self, val):\n",
    "        self.val = val\n",
    "        self.next = None\n",
    "\n",
    "def find_mid_and_third(head):\n",
    "    # Fast pointer moves 2 steps, slow 1 step — classic runner technique\n",
    "    # Third pointer advances every third slow move\n",
    "    slow = fast = head\n",
    "    # third = head\n",
    "    count = 0\n",
    "    while fast and fast.next:\n",
    "        fast = fast.next.next\n",
    "        slow = slow.next\n",
    "        count += 1\n",
    "        # if count % 3 == 0 and third:\n",
    "            # third = third.next\n",
    "    return slow.val if slow else None\n",
    "    # return slow.val if slow else None, third.val if third else None\n",
    "    "
   ]
  },
  {
   "cell_type": "code",
   "execution_count": 4,
   "id": "940a7df6",
   "metadata": {},
   "outputs": [
    {
     "name": "stdout",
     "output_type": "stream",
     "text": [
      "<__main__.Node object at 0x000002AB55A75250>\n",
      "<__main__.Node object at 0x000002AB55A74F80>\n"
     ]
    }
   ],
   "source": [
    "n1= Node(10)\n",
    "n2 = Node(20)\n",
    "n1.next = n2\n",
    "head = n1\n",
    "n = head\n",
    "while(n):\n",
    "    print(n)\n",
    "    n = n.next"
   ]
  }
 ],
 "metadata": {
  "kernelspec": {
   "display_name": "Python 3",
   "language": "python",
   "name": "python3"
  },
  "language_info": {
   "codemirror_mode": {
    "name": "ipython",
    "version": 3
   },
   "file_extension": ".py",
   "mimetype": "text/x-python",
   "name": "python",
   "nbconvert_exporter": "python",
   "pygments_lexer": "ipython3",
   "version": "3.12.7"
  }
 },
 "nbformat": 4,
 "nbformat_minor": 5
}
