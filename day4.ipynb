{
 "cells": [
  {
   "cell_type": "code",
   "execution_count": 5,
   "id": "5c23020e",
   "metadata": {},
   "outputs": [
    {
     "data": {
      "text/plain": [
       "[2, 4, 56]"
      ]
     },
     "execution_count": 5,
     "metadata": {},
     "output_type": "execute_result"
    }
   ],
   "source": [
    "array=[2,4,56,6]\n",
    "array.pop()\n",
    "array"
   ]
  },
  {
   "cell_type": "code",
   "execution_count": 27,
   "id": "0c106cc5",
   "metadata": {},
   "outputs": [
    {
     "name": "stdout",
     "output_type": "stream",
     "text": [
      "[3, 4, 5]\n",
      "[3, 4, 5]\n"
     ]
    },
    {
     "ename": "ValueError",
     "evalue": "invalid literal for int() with base 10: ''",
     "output_type": "error",
     "traceback": [
      "\u001b[31m---------------------------------------------------------------------------\u001b[39m",
      "\u001b[31mValueError\u001b[39m                                Traceback (most recent call last)",
      "\u001b[36mCell\u001b[39m\u001b[36m \u001b[39m\u001b[32mIn[27]\u001b[39m\u001b[32m, line 15\u001b[39m\n\u001b[32m     13\u001b[39m     queue.pop()\n\u001b[32m     14\u001b[39m     \u001b[38;5;28;01mreturn\u001b[39;00m \u001b[38;5;28mprint\u001b[39m(queue)\n\u001b[32m---> \u001b[39m\u001b[32m15\u001b[39m n = \u001b[38;5;28;43mint\u001b[39;49m\u001b[43m(\u001b[49m\u001b[38;5;28;43minput\u001b[39;49m\u001b[43m(\u001b[49m\u001b[33;43m\"\u001b[39;49m\u001b[33;43mEnter 1 to push and 2 to pop:\u001b[39;49m\u001b[33;43m\"\u001b[39;49m\u001b[43m)\u001b[49m\u001b[43m)\u001b[49m\n\u001b[32m     16\u001b[39m \u001b[38;5;28;01mif\u001b[39;00m(n==\u001b[32m1\u001b[39m):\n\u001b[32m     17\u001b[39m     num = \u001b[38;5;28mint\u001b[39m(\u001b[38;5;28minput\u001b[39m(\u001b[33m\"\u001b[39m\u001b[33mEnter the number to push\u001b[39m\u001b[33m\"\u001b[39m)) \n",
      "\u001b[31mValueError\u001b[39m: invalid literal for int() with base 10: ''"
     ]
    }
   ],
   "source": [
    "queue = [3,4,5,5]\n",
    "while(1):\n",
    "    def enqueue(num):\n",
    "        if len(queue)==4:\n",
    "            print(\"OF\")\n",
    "            exit\n",
    "        queue.append(num)\n",
    "        return queue\n",
    "    def dequeue():\n",
    "        if len(queue)==0:\n",
    "            print(\"UF\")\n",
    "            exit\n",
    "        queue.pop()\n",
    "        return print(queue)\n",
    "    n = int(input(\"Enter 1 to push and 2 to pop:\"))\n",
    "    if(n==1):\n",
    "        num = int(input(\"Enter the number to push\")) \n",
    "        enqueue(num)\n",
    "        queue\n",
    "    else:\n",
    "        dequeue()\n",
    "        queue\n",
    "\n"
   ]
  },
  {
   "cell_type": "code",
   "execution_count": 1,
   "id": "58a16080",
   "metadata": {},
   "outputs": [
    {
     "ename": "TypeError",
     "evalue": "removeprefix() argument must be str, not list",
     "output_type": "error",
     "traceback": [
      "\u001b[31m---------------------------------------------------------------------------\u001b[39m",
      "\u001b[31mTypeError\u001b[39m                                 Traceback (most recent call last)",
      "\u001b[36mCell\u001b[39m\u001b[36m \u001b[39m\u001b[32mIn[1]\u001b[39m\u001b[32m, line 10\u001b[39m\n\u001b[32m      8\u001b[39m \u001b[38;5;28;01mif\u001b[39;00m i \u001b[38;5;129;01mnot\u001b[39;00m \u001b[38;5;129;01min\u001b[39;00m cur2:\n\u001b[32m      9\u001b[39m     cur2.append(i)\n\u001b[32m---> \u001b[39m\u001b[32m10\u001b[39m     \u001b[43mstring\u001b[49m\u001b[43m.\u001b[49m\u001b[43mremoveprefix\u001b[49m\u001b[43m(\u001b[49m\u001b[43mcur2\u001b[49m\u001b[43m)\u001b[49m\n\u001b[32m     11\u001b[39m     length += \u001b[32m1\u001b[39m\n\u001b[32m     12\u001b[39m     \u001b[38;5;28mprint\u001b[39m(cur2,string)\n",
      "\u001b[31mTypeError\u001b[39m: removeprefix() argument must be str, not list"
     ]
    }
   ],
   "source": [
    "string = 'josjosinj'\n",
    "s=[]\n",
    "length=0\n",
    "cur2=[]\n",
    "cur1=[]\n",
    "#def check():\n",
    "for i in string:\n",
    "    if i not in cur2:\n",
    "        cur2.append(i)\n",
    "        string.removeprefix(cur2)\n",
    "        length += 1\n",
    "        print(cur2,string)\n",
    "    else:\n",
    "        s.append(cur2)\n",
    "        cur1.append(length)\n",
    "s, cur1"
   ]
  },
  {
   "cell_type": "code",
   "execution_count": 42,
   "id": "86043587",
   "metadata": {},
   "outputs": [
    {
     "data": {
      "text/plain": [
       "[3, 2]"
      ]
     },
     "execution_count": 42,
     "metadata": {},
     "output_type": "execute_result"
    }
   ],
   "source": [
    "a=[1,3,2,3]\n",
    "a[1:3]"
   ]
  },
  {
   "cell_type": "code",
   "execution_count": null,
   "id": "f0a21408",
   "metadata": {},
   "outputs": [],
   "source": []
  }
 ],
 "metadata": {
  "kernelspec": {
   "display_name": "Python 3",
   "language": "python",
   "name": "python3"
  },
  "language_info": {
   "codemirror_mode": {
    "name": "ipython",
    "version": 3
   },
   "file_extension": ".py",
   "mimetype": "text/x-python",
   "name": "python",
   "nbconvert_exporter": "python",
   "pygments_lexer": "ipython3",
   "version": "3.12.7"
  }
 },
 "nbformat": 4,
 "nbformat_minor": 5
}
